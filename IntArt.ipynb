{
 "cells": [
  {
   "cell_type": "code",
   "execution_count": null,
   "metadata": {},
   "outputs": [],
   "source": [
    "import pandas as pd\n",
    "from sklearn.preprocessing import LabelEncoder as le\n",
    "from sklearn.model_selection import train_test_split as tts\n",
    "\n",
    "# I.As\n",
    "from sklearn.ensemble import RandomForestClassifier as rfc\n",
    "from sklearn.neighbors import KNeighborsClassifier as knc\n",
    "\n",
    "from sklearn.metrics import accuracy_score as accs"
   ]
  },
  {
   "cell_type": "code",
   "execution_count": null,
   "metadata": {},
   "outputs": [],
   "source": [
    "tabela = pd.read_csv('clientes.csv')\n",
    "tabela_novClientes = pd.read_csv('novos_clientes.csv')\n",
    "display(tabela.info())\n",
    "display(tabela_novClientes.info())"
   ]
  },
  {
   "cell_type": "code",
   "execution_count": null,
   "metadata": {},
   "outputs": [],
   "source": [
    "codificador = le()\n",
    "\n",
    "tabela['profissao'] = codificador.fit_transform(tabela['profissao'])\n",
    "tabela['mix_credito'] = codificador.fit_transform(tabela['mix_credito'])\n",
    "tabela['comportamento_pagamento'] = codificador.fit_transform(tabela['comportamento_pagamento'])\n",
    "\n",
    "tabela_novClientes['profissao'] = codificador.fit_transform(tabela_novClientes['profissao'])\n",
    "tabela_novClientes['mix_credito'] = codificador.fit_transform(tabela_novClientes['mix_credito'])\n",
    "tabela_novClientes['comportamento_pagamento'] = codificador.fit_transform(tabela_novClientes['comportamento_pagamento'])\n",
    "\n",
    "display(tabela.info())\n",
    "display(tabela_novClientes.info())\n"
   ]
  },
  {
   "cell_type": "code",
   "execution_count": null,
   "metadata": {},
   "outputs": [],
   "source": [
    "x = tabela.drop(columns=['id_cliente','score_credito'])\n",
    "y = tabela['score_credito']\n",
    "\n",
    "x_treino , x_teste , Y_treino , Y_teste = tts(x,y, test_size=0.3)\n",
    "\n"
   ]
  },
  {
   "cell_type": "code",
   "execution_count": null,
   "metadata": {},
   "outputs": [],
   "source": [
    "modelo_arvoreDecisao = rfc()\n",
    "modelo_knn = knc()\n",
    "\n",
    "modelo_arvoreDecisao.fit(x_treino,Y_treino)\n",
    "modelo_knn.fit(x_treino,Y_treino)"
   ]
  },
  {
   "cell_type": "code",
   "execution_count": null,
   "metadata": {},
   "outputs": [],
   "source": [
    "previsao_arvDecisao = modelo_arvoreDecisao.predict(x_teste)\n",
    "previsao_knn = modelo_knn.predict(x_teste)\n",
    "\n",
    "display(accs(Y_teste, previsao_arvDecisao)) # melhor\n",
    "display(accs(Y_teste,previsao_knn))"
   ]
  },
  {
   "cell_type": "code",
   "execution_count": null,
   "metadata": {},
   "outputs": [],
   "source": [
    "previsoes = modelo_arvoreDecisao.predict(tabela_novClientes)\n",
    "display(tabela_novClientes)\n",
    "display(previsoes)"
   ]
  }
 ],
 "metadata": {
  "kernelspec": {
   "display_name": "Python 3",
   "language": "python",
   "name": "python3"
  },
  "language_info": {
   "codemirror_mode": {
    "name": "ipython",
    "version": 3
   },
   "file_extension": ".py",
   "mimetype": "text/x-python",
   "name": "python",
   "nbconvert_exporter": "python",
   "pygments_lexer": "ipython3",
   "version": "3.12.4"
  }
 },
 "nbformat": 4,
 "nbformat_minor": 2
}
